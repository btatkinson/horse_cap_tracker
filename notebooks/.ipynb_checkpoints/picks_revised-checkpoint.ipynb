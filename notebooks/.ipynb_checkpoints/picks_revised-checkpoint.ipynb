{
 "cells": [
  {
   "cell_type": "code",
   "execution_count": 2,
   "id": "29371757",
   "metadata": {},
   "outputs": [],
   "source": [
    "\n",
    "import requests\n",
    "\n",
    "import numpy as np\n",
    "import pandas as pd\n",
    "\n",
    "from copy import copy\n",
    "from bs4 import BeautifulSoup\n"
   ]
  },
  {
   "cell_type": "code",
   "execution_count": 3,
   "id": "37cc3a84",
   "metadata": {},
   "outputs": [],
   "source": [
    "\n",
    "def load_daily_results(track, date):\n",
    "    entries = pd.read_csv(f'../data/entries/{track}_{date}.csv')\n",
    "    meta = pd.read_csv(f'../data/meta/{track}_{date}.csv')\n",
    "\n",
    "    entries['ml_odds'] = entries['ml_odds'].apply(convert_to_float)\n",
    "    entries['implied_odds'] = entries['ml_odds'].copy().apply(lambda x: 1/(1+x))\n",
    "    entries['implied_sum'] = entries.groupby(['date','track','race'])['implied_odds'].transform('sum')\n",
    "    entries['implied_odds'] = entries['implied_odds'].copy()/entries['implied_sum'].copy()\n",
    "    entries = entries.drop(columns=['implied_sum'])\n",
    "    entries['race'] = entries['race'].astype(int)\n",
    "    for col in ['win_paid','place_paid','show_paid']:\n",
    "        entries[col] = entries[col].replace('[\\$,]', '', regex=True).astype(float)\n",
    "    \n",
    "    return\n"
   ]
  },
  {
   "cell_type": "code",
   "execution_count": null,
   "id": "71992c1a",
   "metadata": {},
   "outputs": [],
   "source": [
    "\n",
    "def convert_picks_to_df(di, name, track, date):\n",
    "    \n",
    "    \n",
    "    return\n"
   ]
  }
 ],
 "metadata": {
  "kernelspec": {
   "display_name": "Python 3 (ipykernel)",
   "language": "python",
   "name": "python3"
  },
  "language_info": {
   "codemirror_mode": {
    "name": "ipython",
    "version": 3
   },
   "file_extension": ".py",
   "mimetype": "text/x-python",
   "name": "python",
   "nbconvert_exporter": "python",
   "pygments_lexer": "ipython3",
   "version": "3.9.13"
  }
 },
 "nbformat": 4,
 "nbformat_minor": 5
}
